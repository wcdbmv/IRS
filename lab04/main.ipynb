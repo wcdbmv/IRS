{
 "cells": [
  {
   "cell_type": "code",
   "execution_count": 1,
   "id": "6323d636",
   "metadata": {},
   "outputs": [
    {
     "data": {
      "text/plain": "               docID                                             docURL  \\\n0      080404-100043  Z3JhbmkucnUvUG9saXRpY3MvUnVzc2lhL0NhYmluZXQvbS...   \n1      080404-100057  Z3JhbmkucnUvUG9saXRpY3MvUnVzc2lhL20uNjU4MjIuaH...   \n2      080404-100069  Z3JhbmkucnUvUG9saXRpY3MvV29ybGQvSXJhcS9tLjY1OD...   \n3      080404-100078  aGVhbHRoLnByYXZkYS5ydS9oZWFsdGgvMjAwNC8yMy8xMD...   \n4      080404-100079  aGVhbHRoLnByYXZkYS5ydS9oZWFsdGgvMjAwNC8yMy8xMD...   \n...              ...                                                ...   \n10015  080404-100390  bGVudGEucnUvd29ybGQvMjAwNC8wNC8wMS9wYWtpc3Rhbi...   \n10016   080404-90937  d3d3LnBvbGl0LnJ1L25ld3MvMjAwNC8wNC8wMS9wYWtpc3...   \n10017    080404-9354  d3d3LnJvc2JhbHQucnUvMjAwNC8wNC8wMi8xNTMyODQuaH...   \n10018  080404-100360  bGVudGEucnUvbWlkZWFzdC8yMDA0LzA0LzAxL2Vudm95cy...   \n10019  080404-100378     bGVudGEucnUvdGVycm9yLzIwMDQvMDQvMDEvcmljZS8=\\n   \n\n                                                 subject          agency  \\\n0      \\nyvPk8OjtOiDM6O3o8fLw+yDx7O7j8/Ig8eDs6CDx7ufk...  4/Dg7egu8PM=\\n   \n1      \\nyO3u8fLw4O3t++Ug5vPw7eDr6PHy+yDu7+Dx7fsg5Ov/...  4/Dg7egu8PM=\\n   \n2      \\nwiDw4Onu7eUg3ev8LdTg6+vz5OboIOjw4Orx6ujlIO/u...  4/Dg7egu8PM=\\n   \n3                    \\n0e7r//Do6Tog5+Ag6CDv8O7y6OI=\\n     7/Dg4uTgLnJ1\\n   \n4      \\n1PPw8+3q8+sg7eAg6+j25S4gyu7t8fPr/PLg9uj/IPHv...  7/Dg4uTgLnJ1\\n   \n...                                                  ...             ...   \n10015  \\nz+Dq6PHy4O3x6uD/IO/u6+j26P8g8e/g8evgIO/w5ez8...  bGVudGEucnU=\\n   \n10016  \\nwiDP4Oro8fLg7eUg7/Dl5O7y4vDg+eXt7iDv7urz+OXt...  7+7r6PIu8PM=\\n   \n10017  \\nz+7r6Pbo/yDP4Oro8fLg7eAg7/Dl5O7y4vDg8ujr4CDv...  8O7x4eDr8g==\\n   \n10018  \\nz+Dr5fHy6O3x6ujpIPLl8PDu8Ojx8iDj7vLu4ujrIPPh...  bGVudGEucnU=\\n   \n10019  \\nMTEg8eXt8v/h8P8gMjAwMSDj7uTgIMru7eTu6+jn5+Ag...  bGVudGEucnU=\\n   \n\n      timestamp                                            content  \n0          None   zOjt6PHy8CD06O3g7fHu4iDQ1CDA6+Xq8eXpIMrz5PDo7...  \n1          None   zOjt6PHy5fDx8uLuIO/w6PDu5O379SDw5fHz8PHu4iDw4...  \n2          None   wiD35fLi5fDjIO3l7+7k4Ovl6vMg7vIg3ev8LdTg6+vz5...  \n3          None   x+Dj7vDg8vwg7O7m7e4g6CDn6Ozu6SAtIOTr/yD98u7j7...  \n4          None   zeAg4u7v8O7x+yDt4Pjo9SD36PLg8uXr/O3o9iDuIOPt7...  \n...         ...                                                ...  \n10015      None   z/Dl7Pzl8C3s6O3o8fLwIM/g6ujx8uDt4CDH4PTg8PPr6...  \n10016      None   z+Dq6PHy4O3x6ujlIO/u6+j25enx6ujlIO/w5eTu8uLw4...  \n10017      None   ysDQwNfILCAyIODv8OXr/y4Kz+7r6Pbo6CDP4Oro8fLg7...  \n10018      None   we7l4ujqIO/g6+Xx8ujt8eru6SD96vHy8OXs6PHy8eru6...  \n10019      None   MTEg8eXt8v/h8P8gMjAwMSDj7uTgLCDiIOTl7fwg8e7i5...  \n\n[10020 rows x 6 columns]",
      "text/html": "<div>\n<style scoped>\n    .dataframe tbody tr th:only-of-type {\n        vertical-align: middle;\n    }\n\n    .dataframe tbody tr th {\n        vertical-align: top;\n    }\n\n    .dataframe thead th {\n        text-align: right;\n    }\n</style>\n<table border=\"1\" class=\"dataframe\">\n  <thead>\n    <tr style=\"text-align: right;\">\n      <th></th>\n      <th>docID</th>\n      <th>docURL</th>\n      <th>subject</th>\n      <th>agency</th>\n      <th>timestamp</th>\n      <th>content</th>\n    </tr>\n  </thead>\n  <tbody>\n    <tr>\n      <th>0</th>\n      <td>080404-100043</td>\n      <td>Z3JhbmkucnUvUG9saXRpY3MvUnVzc2lhL0NhYmluZXQvbS...</td>\n      <td>\\nyvPk8OjtOiDM6O3o8fLw+yDx7O7j8/Ig8eDs6CDx7ufk...</td>\n      <td>4/Dg7egu8PM=\\n</td>\n      <td>None</td>\n      <td>zOjt6PHy8CD06O3g7fHu4iDQ1CDA6+Xq8eXpIMrz5PDo7...</td>\n    </tr>\n    <tr>\n      <th>1</th>\n      <td>080404-100057</td>\n      <td>Z3JhbmkucnUvUG9saXRpY3MvUnVzc2lhL20uNjU4MjIuaH...</td>\n      <td>\\nyO3u8fLw4O3t++Ug5vPw7eDr6PHy+yDu7+Dx7fsg5Ov/...</td>\n      <td>4/Dg7egu8PM=\\n</td>\n      <td>None</td>\n      <td>zOjt6PHy5fDx8uLuIO/w6PDu5O379SDw5fHz8PHu4iDw4...</td>\n    </tr>\n    <tr>\n      <th>2</th>\n      <td>080404-100069</td>\n      <td>Z3JhbmkucnUvUG9saXRpY3MvV29ybGQvSXJhcS9tLjY1OD...</td>\n      <td>\\nwiDw4Onu7eUg3ev8LdTg6+vz5OboIOjw4Orx6ujlIO/u...</td>\n      <td>4/Dg7egu8PM=\\n</td>\n      <td>None</td>\n      <td>wiD35fLi5fDjIO3l7+7k4Ovl6vMg7vIg3ev8LdTg6+vz5...</td>\n    </tr>\n    <tr>\n      <th>3</th>\n      <td>080404-100078</td>\n      <td>aGVhbHRoLnByYXZkYS5ydS9oZWFsdGgvMjAwNC8yMy8xMD...</td>\n      <td>\\n0e7r//Do6Tog5+Ag6CDv8O7y6OI=\\n</td>\n      <td>7/Dg4uTgLnJ1\\n</td>\n      <td>None</td>\n      <td>x+Dj7vDg8vwg7O7m7e4g6CDn6Ozu6SAtIOTr/yD98u7j7...</td>\n    </tr>\n    <tr>\n      <th>4</th>\n      <td>080404-100079</td>\n      <td>aGVhbHRoLnByYXZkYS5ydS9oZWFsdGgvMjAwNC8yMy8xMD...</td>\n      <td>\\n1PPw8+3q8+sg7eAg6+j25S4gyu7t8fPr/PLg9uj/IPHv...</td>\n      <td>7/Dg4uTgLnJ1\\n</td>\n      <td>None</td>\n      <td>zeAg4u7v8O7x+yDt4Pjo9SD36PLg8uXr/O3o9iDuIOPt7...</td>\n    </tr>\n    <tr>\n      <th>...</th>\n      <td>...</td>\n      <td>...</td>\n      <td>...</td>\n      <td>...</td>\n      <td>...</td>\n      <td>...</td>\n    </tr>\n    <tr>\n      <th>10015</th>\n      <td>080404-100390</td>\n      <td>bGVudGEucnUvd29ybGQvMjAwNC8wNC8wMS9wYWtpc3Rhbi...</td>\n      <td>\\nz+Dq6PHy4O3x6uD/IO/u6+j26P8g8e/g8evgIO/w5ez8...</td>\n      <td>bGVudGEucnU=\\n</td>\n      <td>None</td>\n      <td>z/Dl7Pzl8C3s6O3o8fLwIM/g6ujx8uDt4CDH4PTg8PPr6...</td>\n    </tr>\n    <tr>\n      <th>10016</th>\n      <td>080404-90937</td>\n      <td>d3d3LnBvbGl0LnJ1L25ld3MvMjAwNC8wNC8wMS9wYWtpc3...</td>\n      <td>\\nwiDP4Oro8fLg7eUg7/Dl5O7y4vDg+eXt7iDv7urz+OXt...</td>\n      <td>7+7r6PIu8PM=\\n</td>\n      <td>None</td>\n      <td>z+Dq6PHy4O3x6ujlIO/u6+j25enx6ujlIO/w5eTu8uLw4...</td>\n    </tr>\n    <tr>\n      <th>10017</th>\n      <td>080404-9354</td>\n      <td>d3d3LnJvc2JhbHQucnUvMjAwNC8wNC8wMi8xNTMyODQuaH...</td>\n      <td>\\nz+7r6Pbo/yDP4Oro8fLg7eAg7/Dl5O7y4vDg8ujr4CDv...</td>\n      <td>8O7x4eDr8g==\\n</td>\n      <td>None</td>\n      <td>ysDQwNfILCAyIODv8OXr/y4Kz+7r6Pbo6CDP4Oro8fLg7...</td>\n    </tr>\n    <tr>\n      <th>10018</th>\n      <td>080404-100360</td>\n      <td>bGVudGEucnUvbWlkZWFzdC8yMDA0LzA0LzAxL2Vudm95cy...</td>\n      <td>\\nz+Dr5fHy6O3x6ujpIPLl8PDu8Ojx8iDj7vLu4ujrIPPh...</td>\n      <td>bGVudGEucnU=\\n</td>\n      <td>None</td>\n      <td>we7l4ujqIO/g6+Xx8ujt8eru6SD96vHy8OXs6PHy8eru6...</td>\n    </tr>\n    <tr>\n      <th>10019</th>\n      <td>080404-100378</td>\n      <td>bGVudGEucnUvdGVycm9yLzIwMDQvMDQvMDEvcmljZS8=\\n</td>\n      <td>\\nMTEg8eXt8v/h8P8gMjAwMSDj7uTgIMru7eTu6+jn5+Ag...</td>\n      <td>bGVudGEucnU=\\n</td>\n      <td>None</td>\n      <td>MTEg8eXt8v/h8P8gMjAwMSDj7uTgLCDiIOTl7fwg8e7i5...</td>\n    </tr>\n  </tbody>\n</table>\n<p>10020 rows × 6 columns</p>\n</div>"
     },
     "execution_count": 1,
     "metadata": {},
     "output_type": "execute_result"
    }
   ],
   "source": [
    "from lxml import objectify\n",
    "import pandas as pd\n",
    "\n",
    "xml_data = objectify.parse('news-080404.xml')  # Parse XML data\n",
    "root = xml_data.getroot()  # Root element\n",
    "\n",
    "data = []\n",
    "cols = []\n",
    "for i in range(len(root.getchildren())):\n",
    "    child = root.getchildren()[i]\n",
    "    data.append([subchild.text for subchild in child.getchildren()])\n",
    "    cols = [subchild.tag for subchild in child.getchildren()]\n",
    "\n",
    "df = pd.DataFrame(data)  # Create DataFrame and transpose it\n",
    "df.columns = cols  # Update column names\n",
    "df"
   ]
  },
  {
   "cell_type": "code",
   "execution_count": 2,
   "outputs": [
    {
     "data": {
      "text/plain": "0        Министр финансов РФ Алексей Кудрин предложил п...\n1        Министерство природных ресурсов распорядилось ...\n2        В четверг неподалеку от Эль-Фаллуджи иракские ...\n3        Загорать можно и зимой - для этого достаточно ...\n4        На вопросы наших читательниц о гнойных воспале...\n                               ...                        \n10015    Премьер-министр Пакистана Зафарулла Хан Джамал...\n10016    Пакистанские полицейские предотвратили покушен...\n10017    КАРАЧИ, 2 апреля.\\nПолиции Пакистана удалось п...\n10018    Боевик палестинской экстремистской группировки...\n10019    11 сентября 2001 года, в день совершения терак...\nName: text, Length: 10020, dtype: object"
     },
     "execution_count": 2,
     "metadata": {},
     "output_type": "execute_result"
    }
   ],
   "source": [
    "import base64\n",
    "\n",
    "def decode_base64(text):\n",
    "    return base64.b64decode(text).decode('windows-1251')\n",
    "\n",
    "df['text'] = df['content'].apply(decode_base64)\n",
    "df['text']"
   ],
   "metadata": {
    "collapsed": false,
    "pycharm": {
     "name": "#%%\n"
    }
   }
  },
  {
   "cell_type": "code",
   "execution_count": 3,
   "outputs": [
    {
     "data": {
      "text/plain": "0        министр финансов рф алексей кудрин предложил п...\n1        министерство природных ресурсов распорядилось ...\n2        четверг неподалеку эль-фаллуджи иракские повст...\n3        загорать зимой достаточно пару неделю ходить с...\n4        вопросы наших читательниц гнойных воспалениях ...\n                               ...                        \n10015    премьер-министр пакистана зафарулла хан джамал...\n10016    пакистанские полицейские предотвратили покушен...\n10017    карачи апреля полиции пакистана удалось предот...\n10018    боевик палестинской экстремистской группировки...\n10019    11 сентября года день совершения терактов нью-...\nName: text, Length: 10020, dtype: object"
     },
     "execution_count": 3,
     "metadata": {},
     "output_type": "execute_result"
    }
   ],
   "source": [
    "import string\n",
    "import regex\n",
    "\n",
    "from nltk.tokenize import word_tokenize\n",
    "from nltk.corpus import stopwords\n",
    "\n",
    "stop_words = set(stopwords.words('russian'))\n",
    "\n",
    "def to_clear_tokens(text):\n",
    "    text = regex.sub('[\\p{Latin}]', u'', text)\n",
    "    text = regex.sub('(\\s\\d+)', '', text)\n",
    "    text = regex.sub('``', '', text)\n",
    "    word_tokens = word_tokenize(text)\n",
    "    clear_lower_tokens = [w.lower() for w in word_tokens if (not w.lower() in stop_words and not w in string.punctuation)]\n",
    "    return ' '.join(clear_lower_tokens)\n",
    "\n",
    "df['text'] = df['text'].apply(to_clear_tokens)\n",
    "df['text']"
   ],
   "metadata": {
    "collapsed": false,
    "pycharm": {
     "name": "#%%\n"
    }
   }
  },
  {
   "cell_type": "code",
   "execution_count": 4,
   "id": "169d98cc",
   "metadata": {},
   "outputs": [
    {
     "data": {
      "text/plain": "0        [министр финансов рф алексей кудрин, финансов ...\n1        [министерство природных ресурсов распорядилось...\n2        [четверг неподалеку эль-фаллуджи иракские повс...\n3        [загорать зимой достаточно пару неделю, зимой ...\n4        [вопросы наших читательниц гнойных воспалениях...\n                               ...                        \n10015    [премьер-министр пакистана зафарулла хан джама...\n10016    [пакистанские полицейские предотвратили покуше...\n10017    [карачи апреля полиции пакистана удалось, апре...\n10018    [боевик палестинской экстремистской группировк...\n10019    [11 сентября года день совершения, сентября го...\nName: shingles, Length: 10020, dtype: object"
     },
     "execution_count": 4,
     "metadata": {},
     "output_type": "execute_result"
    }
   ],
   "source": [
    "def form_shingles(text:str):\n",
    "    shingles_count = 5\n",
    "\n",
    "    words = text.split(' ')\n",
    "\n",
    "    shingles = []\n",
    "    for i in range(len(words) - shingles_count + 1):\n",
    "        shingle = words[i:i+shingles_count]\n",
    "        shingles.append(' '.join(shingle))\n",
    "\n",
    "    return shingles\n",
    "\n",
    "df['shingles'] = df['text'].apply(form_shingles)\n",
    "df['shingles']"
   ]
  },
  {
   "cell_type": "code",
   "execution_count": 5,
   "id": "44919559",
   "metadata": {},
   "outputs": [
    {
     "data": {
      "text/plain": "6078"
     },
     "execution_count": 5,
     "metadata": {},
     "output_type": "execute_result"
    }
   ],
   "source": [
    "df['shingles len'] = df['shingles'].apply(len)\n",
    "df['shingles len'].max()"
   ]
  },
  {
   "cell_type": "code",
   "execution_count": 6,
   "outputs": [
    {
     "data": {
      "text/plain": "['решений правительства создавать межведомственные комиссии',\n 'торговле таможенно-тарифной политике министерству экономического',\n 'министры смогут самостоятельно соответствующих решений',\n 'правительству упразднить значительную часть комиссий',\n 'комиссии координации работы министерствами уровень',\n 'политике министерству экономического развития торговли',\n 'торговле таможенно-тарифной политике министерству экономического',\n 'нести министры сказал журналистам частности',\n 'развития торговли поскольку именно закреплены',\n 'работал сообщает риа новости ответственность',\n 'решений правительства создавать межведомственные комиссии',\n 'торговли поскольку именно закреплены задачи',\n 'экономического развития торговли поскольку именно',\n 'целесообразным передать функции комиссии вопросам',\n 'также сообщил министры смогут самостоятельно',\n 'уровень согласования заменит ранее действовавшие',\n 'предложил правительству упразднить значительную часть',\n 'работал сообщает риа новости ответственность',\n 'действовавшие комиссии сказал министр финансов',\n 'присоединения россии вто комиссии защитным',\n 'вто комиссии защитным мерам внешней',\n 'целесообразным передать функции комиссии вопросам',\n 'защитным мерам внешней торговле таможенно-тарифной',\n 'риа новости ответственность предлагаемые решения',\n 'министры сказал журналистам частности считает',\n 'уровень согласования заменит ранее действовавшие',\n 'кудрин предложил правительству упразднить значительную',\n 'комиссии защитным мерам внешней торговле',\n 'россии вто комиссии защитным мерам',\n 'министерствами уровень согласования заменит ранее',\n 'сообщил министры смогут самостоятельно соответствующих',\n 'министерству экономического развития торговли поскольку',\n 'соответствующих решений правительства создавать межведомственные',\n 'алексей кудрин предложил правительству упразднить',\n 'межведомственные комиссии координации работы министерствами',\n 'политике министерству экономического развития торговли',\n 'развития торговли поскольку именно закреплены',\n 'уровень согласования заменит ранее действовавшие',\n 'создавать межведомственные комиссии координации работы',\n 'создавать межведомственные комиссии координации работы',\n 'рф алексей кудрин предложил правительству',\n 'финансов рф алексей кудрин предложил',\n 'поскольку именно закреплены задачи кудрин',\n 'ранее действовавшие комиссии сказал министр',\n 'также сообщил министры смогут самостоятельно',\n 'нести министры сказал журналистам частности',\n 'министерствами уровень согласования заменит ранее',\n 'предложил правительству упразднить значительную часть',\n 'предлагаемые решения должны нести министры',\n 'закреплены задачи кудрин также сообщил',\n 'комиссии координации работы министерствами уровень',\n 'заменит ранее действовавшие комиссии сказал',\n 'предлагаемые решения должны нести министры',\n 'ответственность предлагаемые решения должны нести',\n 'закреплены задачи кудрин также сообщил',\n 'комиссии защитным мерам внешней торговле',\n 'передать функции комиссии вопросам присоединения',\n 'решений правительства создавать межведомственные комиссии',\n 'работы министерствами уровень согласования заменит',\n 'кудрин предложил правительству упразднить значительную',\n 'мерам внешней торговле таможенно-тарифной политике',\n 'комиссии вопросам присоединения россии вто',\n 'решения должны нести министры сказал',\n 'защитным мерам внешней торговле таможенно-тарифной',\n 'работы министерствами уровень согласования заменит',\n 'рф алексей кудрин предложил правительству',\n 'также сообщил министры смогут самостоятельно',\n 'журналистам частности считает целесообразным передать',\n 'соответствующих решений правительства создавать межведомственные']"
     },
     "execution_count": 6,
     "metadata": {},
     "output_type": "execute_result"
    }
   ],
   "source": [
    "import random\n",
    "\n",
    "def choose_shingles(shingles):\n",
    "    shingles_count = 84 if len(shingles) > 84 else len(shingles)\n",
    "    return random.choices(shingles, k=shingles_count)\n",
    "\n",
    "choose_shingles(df['shingles'][0])"
   ],
   "metadata": {
    "collapsed": false,
    "pycharm": {
     "name": "#%%\n"
    }
   }
  },
  {
   "cell_type": "code",
   "execution_count": 7,
   "outputs": [
    {
     "data": {
      "text/plain": "False"
     },
     "execution_count": 7,
     "metadata": {},
     "output_type": "execute_result"
    }
   ],
   "source": [
    "import fuzzywuzzy.process\n",
    "\n",
    "SHINGLE_TRASHHOLD = 70\n",
    "TEXT_TRASHHOLD = 0.9\n",
    "\n",
    "def equals(a, b):\n",
    "    similar_count = 0\n",
    "\n",
    "    for shingle in a:\n",
    "        closest = fuzzywuzzy.process.extractOne(shingle, b)\n",
    "        if closest[1] > SHINGLE_TRASHHOLD:\n",
    "            similar_count += 1\n",
    "\n",
    "    return similar_count / len(a) > TEXT_TRASHHOLD\n",
    "\n",
    "equals(df['shingles'][0], df['shingles'][10])"
   ],
   "metadata": {
    "collapsed": false,
    "pycharm": {
     "name": "#%%\n"
    }
   }
  },
  {
   "cell_type": "code",
   "execution_count": null,
   "outputs": [],
   "source": [
    "clusters = []\n",
    "duplicates_count = 0\n",
    "\n",
    "for i in range(df.size):\n",
    "    equal_found = False\n",
    "    for j in range(df.size):\n",
    "        a = choose_shingles(df['shingles'][i])\n",
    "        b = choose_shingles(df['shingles'][j])\n",
    "        are_equal = equals(a, b)\n",
    "\n",
    "        if are_equal:\n",
    "            equal_found = True\n",
    "\n",
    "            cluster_found = False\n",
    "            for cluster in clusters:\n",
    "                if i in cluster or j in cluster:\n",
    "                    cluster.add(i)\n",
    "                    cluster.add(j)\n",
    "            if not cluster_found:\n",
    "                clusters.append({i, j})\n",
    "\n",
    "    if equal_found:\n",
    "        duplicates_count += 1"
   ],
   "metadata": {
    "collapsed": false,
    "pycharm": {
     "name": "#%%\n",
     "is_executing": true
    }
   }
  },
  {
   "cell_type": "code",
   "execution_count": null,
   "outputs": [],
   "source": [
    "duplicates_count"
   ],
   "metadata": {
    "collapsed": false,
    "pycharm": {
     "name": "#%%\n"
    }
   }
  },
  {
   "cell_type": "code",
   "execution_count": null,
   "outputs": [],
   "source": [
    "clusters"
   ],
   "metadata": {
    "collapsed": false,
    "pycharm": {
     "name": "#%%\n"
    }
   }
  }
 ],
 "metadata": {
  "kernelspec": {
   "display_name": "Python 3 (ipykernel)",
   "language": "python",
   "name": "python3"
  },
  "language_info": {
   "codemirror_mode": {
    "name": "ipython",
    "version": 3
   },
   "file_extension": ".py",
   "mimetype": "text/x-python",
   "name": "python",
   "nbconvert_exporter": "python",
   "pygments_lexer": "ipython3",
   "version": "3.9.1"
  }
 },
 "nbformat": 4,
 "nbformat_minor": 5
}
