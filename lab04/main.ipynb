{
 "cells": [
  {
   "cell_type": "code",
   "execution_count": 1,
   "id": "6323d636",
   "metadata": {},
   "outputs": [
    {
     "data": {
      "text/html": [
       "<div>\n",
       "<style scoped>\n",
       "    .dataframe tbody tr th:only-of-type {\n",
       "        vertical-align: middle;\n",
       "    }\n",
       "\n",
       "    .dataframe tbody tr th {\n",
       "        vertical-align: top;\n",
       "    }\n",
       "\n",
       "    .dataframe thead th {\n",
       "        text-align: right;\n",
       "    }\n",
       "</style>\n",
       "<table border=\"1\" class=\"dataframe\">\n",
       "  <thead>\n",
       "    <tr style=\"text-align: right;\">\n",
       "      <th></th>\n",
       "      <th>docID</th>\n",
       "      <th>docURL</th>\n",
       "      <th>subject</th>\n",
       "      <th>agency</th>\n",
       "      <th>timestamp</th>\n",
       "      <th>content</th>\n",
       "    </tr>\n",
       "  </thead>\n",
       "  <tbody>\n",
       "    <tr>\n",
       "      <th>0</th>\n",
       "      <td>080404-100043</td>\n",
       "      <td>Z3JhbmkucnUvUG9saXRpY3MvUnVzc2lhL0NhYmluZXQvbS...</td>\n",
       "      <td>\\nyvPk8OjtOiDM6O3o8fLw+yDx7O7j8/Ig8eDs6CDx7ufk...</td>\n",
       "      <td>4/Dg7egu8PM=\\n</td>\n",
       "      <td>None</td>\n",
       "      <td>zOjt6PHy8CD06O3g7fHu4iDQ1CDA6+Xq8eXpIMrz5PDo7...</td>\n",
       "    </tr>\n",
       "    <tr>\n",
       "      <th>1</th>\n",
       "      <td>080404-100057</td>\n",
       "      <td>Z3JhbmkucnUvUG9saXRpY3MvUnVzc2lhL20uNjU4MjIuaH...</td>\n",
       "      <td>\\nyO3u8fLw4O3t++Ug5vPw7eDr6PHy+yDu7+Dx7fsg5Ov/...</td>\n",
       "      <td>4/Dg7egu8PM=\\n</td>\n",
       "      <td>None</td>\n",
       "      <td>zOjt6PHy5fDx8uLuIO/w6PDu5O379SDw5fHz8PHu4iDw4...</td>\n",
       "    </tr>\n",
       "    <tr>\n",
       "      <th>2</th>\n",
       "      <td>080404-100069</td>\n",
       "      <td>Z3JhbmkucnUvUG9saXRpY3MvV29ybGQvSXJhcS9tLjY1OD...</td>\n",
       "      <td>\\nwiDw4Onu7eUg3ev8LdTg6+vz5OboIOjw4Orx6ujlIO/u...</td>\n",
       "      <td>4/Dg7egu8PM=\\n</td>\n",
       "      <td>None</td>\n",
       "      <td>wiD35fLi5fDjIO3l7+7k4Ovl6vMg7vIg3ev8LdTg6+vz5...</td>\n",
       "    </tr>\n",
       "    <tr>\n",
       "      <th>3</th>\n",
       "      <td>080404-100078</td>\n",
       "      <td>aGVhbHRoLnByYXZkYS5ydS9oZWFsdGgvMjAwNC8yMy8xMD...</td>\n",
       "      <td>\\n0e7r//Do6Tog5+Ag6CDv8O7y6OI=\\n</td>\n",
       "      <td>7/Dg4uTgLnJ1\\n</td>\n",
       "      <td>None</td>\n",
       "      <td>x+Dj7vDg8vwg7O7m7e4g6CDn6Ozu6SAtIOTr/yD98u7j7...</td>\n",
       "    </tr>\n",
       "    <tr>\n",
       "      <th>4</th>\n",
       "      <td>080404-100079</td>\n",
       "      <td>aGVhbHRoLnByYXZkYS5ydS9oZWFsdGgvMjAwNC8yMy8xMD...</td>\n",
       "      <td>\\n1PPw8+3q8+sg7eAg6+j25S4gyu7t8fPr/PLg9uj/IPHv...</td>\n",
       "      <td>7/Dg4uTgLnJ1\\n</td>\n",
       "      <td>None</td>\n",
       "      <td>zeAg4u7v8O7x+yDt4Pjo9SD36PLg8uXr/O3o9iDuIOPt7...</td>\n",
       "    </tr>\n",
       "    <tr>\n",
       "      <th>...</th>\n",
       "      <td>...</td>\n",
       "      <td>...</td>\n",
       "      <td>...</td>\n",
       "      <td>...</td>\n",
       "      <td>...</td>\n",
       "      <td>...</td>\n",
       "    </tr>\n",
       "    <tr>\n",
       "      <th>10015</th>\n",
       "      <td>080404-100390</td>\n",
       "      <td>bGVudGEucnUvd29ybGQvMjAwNC8wNC8wMS9wYWtpc3Rhbi...</td>\n",
       "      <td>\\nz+Dq6PHy4O3x6uD/IO/u6+j26P8g8e/g8evgIO/w5ez8...</td>\n",
       "      <td>bGVudGEucnU=\\n</td>\n",
       "      <td>None</td>\n",
       "      <td>z/Dl7Pzl8C3s6O3o8fLwIM/g6ujx8uDt4CDH4PTg8PPr6...</td>\n",
       "    </tr>\n",
       "    <tr>\n",
       "      <th>10016</th>\n",
       "      <td>080404-90937</td>\n",
       "      <td>d3d3LnBvbGl0LnJ1L25ld3MvMjAwNC8wNC8wMS9wYWtpc3...</td>\n",
       "      <td>\\nwiDP4Oro8fLg7eUg7/Dl5O7y4vDg+eXt7iDv7urz+OXt...</td>\n",
       "      <td>7+7r6PIu8PM=\\n</td>\n",
       "      <td>None</td>\n",
       "      <td>z+Dq6PHy4O3x6ujlIO/u6+j25enx6ujlIO/w5eTu8uLw4...</td>\n",
       "    </tr>\n",
       "    <tr>\n",
       "      <th>10017</th>\n",
       "      <td>080404-9354</td>\n",
       "      <td>d3d3LnJvc2JhbHQucnUvMjAwNC8wNC8wMi8xNTMyODQuaH...</td>\n",
       "      <td>\\nz+7r6Pbo/yDP4Oro8fLg7eAg7/Dl5O7y4vDg8ujr4CDv...</td>\n",
       "      <td>8O7x4eDr8g==\\n</td>\n",
       "      <td>None</td>\n",
       "      <td>ysDQwNfILCAyIODv8OXr/y4Kz+7r6Pbo6CDP4Oro8fLg7...</td>\n",
       "    </tr>\n",
       "    <tr>\n",
       "      <th>10018</th>\n",
       "      <td>080404-100360</td>\n",
       "      <td>bGVudGEucnUvbWlkZWFzdC8yMDA0LzA0LzAxL2Vudm95cy...</td>\n",
       "      <td>\\nz+Dr5fHy6O3x6ujpIPLl8PDu8Ojx8iDj7vLu4ujrIPPh...</td>\n",
       "      <td>bGVudGEucnU=\\n</td>\n",
       "      <td>None</td>\n",
       "      <td>we7l4ujqIO/g6+Xx8ujt8eru6SD96vHy8OXs6PHy8eru6...</td>\n",
       "    </tr>\n",
       "    <tr>\n",
       "      <th>10019</th>\n",
       "      <td>080404-100378</td>\n",
       "      <td>bGVudGEucnUvdGVycm9yLzIwMDQvMDQvMDEvcmljZS8=\\n</td>\n",
       "      <td>\\nMTEg8eXt8v/h8P8gMjAwMSDj7uTgIMru7eTu6+jn5+Ag...</td>\n",
       "      <td>bGVudGEucnU=\\n</td>\n",
       "      <td>None</td>\n",
       "      <td>MTEg8eXt8v/h8P8gMjAwMSDj7uTgLCDiIOTl7fwg8e7i5...</td>\n",
       "    </tr>\n",
       "  </tbody>\n",
       "</table>\n",
       "<p>10020 rows × 6 columns</p>\n",
       "</div>"
      ],
      "text/plain": [
       "               docID                                             docURL  \\\n",
       "0      080404-100043  Z3JhbmkucnUvUG9saXRpY3MvUnVzc2lhL0NhYmluZXQvbS...   \n",
       "1      080404-100057  Z3JhbmkucnUvUG9saXRpY3MvUnVzc2lhL20uNjU4MjIuaH...   \n",
       "2      080404-100069  Z3JhbmkucnUvUG9saXRpY3MvV29ybGQvSXJhcS9tLjY1OD...   \n",
       "3      080404-100078  aGVhbHRoLnByYXZkYS5ydS9oZWFsdGgvMjAwNC8yMy8xMD...   \n",
       "4      080404-100079  aGVhbHRoLnByYXZkYS5ydS9oZWFsdGgvMjAwNC8yMy8xMD...   \n",
       "...              ...                                                ...   \n",
       "10015  080404-100390  bGVudGEucnUvd29ybGQvMjAwNC8wNC8wMS9wYWtpc3Rhbi...   \n",
       "10016   080404-90937  d3d3LnBvbGl0LnJ1L25ld3MvMjAwNC8wNC8wMS9wYWtpc3...   \n",
       "10017    080404-9354  d3d3LnJvc2JhbHQucnUvMjAwNC8wNC8wMi8xNTMyODQuaH...   \n",
       "10018  080404-100360  bGVudGEucnUvbWlkZWFzdC8yMDA0LzA0LzAxL2Vudm95cy...   \n",
       "10019  080404-100378     bGVudGEucnUvdGVycm9yLzIwMDQvMDQvMDEvcmljZS8=\\n   \n",
       "\n",
       "                                                 subject          agency  \\\n",
       "0      \\nyvPk8OjtOiDM6O3o8fLw+yDx7O7j8/Ig8eDs6CDx7ufk...  4/Dg7egu8PM=\\n   \n",
       "1      \\nyO3u8fLw4O3t++Ug5vPw7eDr6PHy+yDu7+Dx7fsg5Ov/...  4/Dg7egu8PM=\\n   \n",
       "2      \\nwiDw4Onu7eUg3ev8LdTg6+vz5OboIOjw4Orx6ujlIO/u...  4/Dg7egu8PM=\\n   \n",
       "3                    \\n0e7r//Do6Tog5+Ag6CDv8O7y6OI=\\n     7/Dg4uTgLnJ1\\n   \n",
       "4      \\n1PPw8+3q8+sg7eAg6+j25S4gyu7t8fPr/PLg9uj/IPHv...  7/Dg4uTgLnJ1\\n   \n",
       "...                                                  ...             ...   \n",
       "10015  \\nz+Dq6PHy4O3x6uD/IO/u6+j26P8g8e/g8evgIO/w5ez8...  bGVudGEucnU=\\n   \n",
       "10016  \\nwiDP4Oro8fLg7eUg7/Dl5O7y4vDg+eXt7iDv7urz+OXt...  7+7r6PIu8PM=\\n   \n",
       "10017  \\nz+7r6Pbo/yDP4Oro8fLg7eAg7/Dl5O7y4vDg8ujr4CDv...  8O7x4eDr8g==\\n   \n",
       "10018  \\nz+Dr5fHy6O3x6ujpIPLl8PDu8Ojx8iDj7vLu4ujrIPPh...  bGVudGEucnU=\\n   \n",
       "10019  \\nMTEg8eXt8v/h8P8gMjAwMSDj7uTgIMru7eTu6+jn5+Ag...  bGVudGEucnU=\\n   \n",
       "\n",
       "      timestamp                                            content  \n",
       "0          None   zOjt6PHy8CD06O3g7fHu4iDQ1CDA6+Xq8eXpIMrz5PDo7...  \n",
       "1          None   zOjt6PHy5fDx8uLuIO/w6PDu5O379SDw5fHz8PHu4iDw4...  \n",
       "2          None   wiD35fLi5fDjIO3l7+7k4Ovl6vMg7vIg3ev8LdTg6+vz5...  \n",
       "3          None   x+Dj7vDg8vwg7O7m7e4g6CDn6Ozu6SAtIOTr/yD98u7j7...  \n",
       "4          None   zeAg4u7v8O7x+yDt4Pjo9SD36PLg8uXr/O3o9iDuIOPt7...  \n",
       "...         ...                                                ...  \n",
       "10015      None   z/Dl7Pzl8C3s6O3o8fLwIM/g6ujx8uDt4CDH4PTg8PPr6...  \n",
       "10016      None   z+Dq6PHy4O3x6ujlIO/u6+j25enx6ujlIO/w5eTu8uLw4...  \n",
       "10017      None   ysDQwNfILCAyIODv8OXr/y4Kz+7r6Pbo6CDP4Oro8fLg7...  \n",
       "10018      None   we7l4ujqIO/g6+Xx8ujt8eru6SD96vHy8OXs6PHy8eru6...  \n",
       "10019      None   MTEg8eXt8v/h8P8gMjAwMSDj7uTgLCDiIOTl7fwg8e7i5...  \n",
       "\n",
       "[10020 rows x 6 columns]"
      ]
     },
     "execution_count": 1,
     "metadata": {},
     "output_type": "execute_result"
    }
   ],
   "source": [
    "from lxml import objectify\n",
    "import pandas as pd\n",
    "\n",
    "xml_data = objectify.parse('news-080404.xml')  # Parse XML data\n",
    "root = xml_data.getroot()  # Root element\n",
    "\n",
    "data = []\n",
    "cols = []\n",
    "for i in range(len(root.getchildren())):\n",
    "    child = root.getchildren()[i]\n",
    "    data.append([subchild.text for subchild in child.getchildren()])\n",
    "    cols = [subchild.tag for subchild in child.getchildren()]\n",
    "\n",
    "df = pd.DataFrame(data)  # Create DataFrame and transpose it\n",
    "df.columns = cols  # Update column names\n",
    "df"
   ]
  },
  {
   "cell_type": "code",
   "execution_count": 2,
   "id": "19172da6",
   "metadata": {
    "collapsed": false,
    "jupyter": {
     "outputs_hidden": false
    },
    "pycharm": {
     "name": "#%%\n"
    }
   },
   "outputs": [
    {
     "data": {
      "text/plain": [
       "0        Министр финансов РФ Алексей Кудрин предложил п...\n",
       "1        Министерство природных ресурсов распорядилось ...\n",
       "2        В четверг неподалеку от Эль-Фаллуджи иракские ...\n",
       "3        Загорать можно и зимой - для этого достаточно ...\n",
       "4        На вопросы наших читательниц о гнойных воспале...\n",
       "                               ...                        \n",
       "10015    Премьер-министр Пакистана Зафарулла Хан Джамал...\n",
       "10016    Пакистанские полицейские предотвратили покушен...\n",
       "10017    КАРАЧИ, 2 апреля.\\nПолиции Пакистана удалось п...\n",
       "10018    Боевик палестинской экстремистской группировки...\n",
       "10019    11 сентября 2001 года, в день совершения терак...\n",
       "Name: text, Length: 10020, dtype: object"
      ]
     },
     "execution_count": 2,
     "metadata": {},
     "output_type": "execute_result"
    }
   ],
   "source": [
    "import base64\n",
    "\n",
    "def decode_base64(text):\n",
    "    return base64.b64decode(text).decode('windows-1251')\n",
    "\n",
    "df['text'] = df['content'].apply(decode_base64)\n",
    "df['text']"
   ]
  },
  {
   "cell_type": "code",
   "execution_count": 3,
   "id": "c05a71d3",
   "metadata": {
    "collapsed": false,
    "jupyter": {
     "outputs_hidden": false
    },
    "pycharm": {
     "name": "#%%\n"
    }
   },
   "outputs": [
    {
     "name": "stderr",
     "output_type": "stream",
     "text": [
      "<>:10: SyntaxWarning: invalid escape sequence '\\p'\n",
      "<>:11: SyntaxWarning: invalid escape sequence '\\s'\n",
      "<>:10: SyntaxWarning: invalid escape sequence '\\p'\n",
      "<>:11: SyntaxWarning: invalid escape sequence '\\s'\n",
      "/var/folders/bg/hb3srvhx4sq7ph_tfrmq3hz80000gp/T/ipykernel_23624/2235998833.py:10: SyntaxWarning: invalid escape sequence '\\p'\n",
      "  text = regex.sub('[\\p{Latin}]', u'', text)\n",
      "/var/folders/bg/hb3srvhx4sq7ph_tfrmq3hz80000gp/T/ipykernel_23624/2235998833.py:11: SyntaxWarning: invalid escape sequence '\\s'\n",
      "  text = regex.sub('(\\s\\d+)', '', text)\n"
     ]
    },
    {
     "data": {
      "text/plain": [
       "0        министр финансов рф алексей кудрин предложил п...\n",
       "1        министерство природных ресурсов распорядилось ...\n",
       "2        четверг неподалеку эль-фаллуджи иракские повст...\n",
       "3        загорать зимой достаточно пару неделю ходить с...\n",
       "4        вопросы наших читательниц гнойных воспалениях ...\n",
       "                               ...                        \n",
       "10015    премьер-министр пакистана зафарулла хан джамал...\n",
       "10016    пакистанские полицейские предотвратили покушен...\n",
       "10017    карачи апреля полиции пакистана удалось предот...\n",
       "10018    боевик палестинской экстремистской группировки...\n",
       "10019    11 сентября года день совершения терактов нью-...\n",
       "Name: text, Length: 10020, dtype: object"
      ]
     },
     "execution_count": 3,
     "metadata": {},
     "output_type": "execute_result"
    }
   ],
   "source": [
    "import string\n",
    "import regex\n",
    "\n",
    "from nltk.tokenize import word_tokenize\n",
    "from nltk.corpus import stopwords\n",
    "\n",
    "stop_words = set(stopwords.words('russian'))\n",
    "\n",
    "def to_clear_tokens(text):\n",
    "    text = regex.sub('[\\p{Latin}]', u'', text)\n",
    "    text = regex.sub('(\\s\\d+)', '', text)\n",
    "    text = regex.sub('``', '', text)\n",
    "    word_tokens = word_tokenize(text)\n",
    "    clear_lower_tokens = [w.lower() for w in word_tokens if (not w.lower() in stop_words and not w in string.punctuation)]\n",
    "    return ' '.join(clear_lower_tokens)\n",
    "\n",
    "df['text'] = df['text'].apply(to_clear_tokens)\n",
    "df['text']"
   ]
  },
  {
   "cell_type": "code",
   "execution_count": 4,
   "id": "169d98cc",
   "metadata": {},
   "outputs": [
    {
     "data": {
      "text/plain": [
       "0        [министр финансов рф алексей кудрин, финансов ...\n",
       "1        [министерство природных ресурсов распорядилось...\n",
       "2        [четверг неподалеку эль-фаллуджи иракские повс...\n",
       "3        [загорать зимой достаточно пару неделю, зимой ...\n",
       "4        [вопросы наших читательниц гнойных воспалениях...\n",
       "                               ...                        \n",
       "10015    [премьер-министр пакистана зафарулла хан джама...\n",
       "10016    [пакистанские полицейские предотвратили покуше...\n",
       "10017    [карачи апреля полиции пакистана удалось, апре...\n",
       "10018    [боевик палестинской экстремистской группировк...\n",
       "10019    [11 сентября года день совершения, сентября го...\n",
       "Name: shingles, Length: 10020, dtype: object"
      ]
     },
     "execution_count": 4,
     "metadata": {},
     "output_type": "execute_result"
    }
   ],
   "source": [
    "def form_shingles(text:str):\n",
    "    shingles_count = 5\n",
    "\n",
    "    words = text.split(' ')\n",
    "\n",
    "    shingles = []\n",
    "    for i in range(len(words) - shingles_count + 1):\n",
    "        shingle = words[i:i+shingles_count]\n",
    "        shingles.append(' '.join(shingle))\n",
    "\n",
    "    return shingles\n",
    "\n",
    "df['shingles'] = df['text'].apply(form_shingles)\n",
    "df['shingles']"
   ]
  },
  {
   "cell_type": "code",
   "execution_count": 14,
   "id": "44919559",
   "metadata": {},
   "outputs": [
    {
     "data": {
      "text/plain": [
       "6088"
      ]
     },
     "execution_count": 14,
     "metadata": {},
     "output_type": "execute_result"
    }
   ],
   "source": [
    "df['shingles_len'] = df['shingles'].apply(len)\n",
    "df['shingles_len'].max()"
   ]
  },
  {
   "cell_type": "code",
   "execution_count": 6,
   "id": "bbe7574b",
   "metadata": {
    "collapsed": false,
    "jupyter": {
     "outputs_hidden": false
    },
    "pycharm": {
     "name": "#%%\n"
    }
   },
   "outputs": [
    {
     "data": {
      "text/plain": [
       "['развития торговли поскольку именно закреплены',\n",
       " 'экономического развития торговли поскольку именно',\n",
       " 'вто комиссии защитным мерам внешней',\n",
       " 'алексей кудрин предложил правительству упразднить',\n",
       " \"сообщает риа `` новости ''\",\n",
       " 'сообщил министры смогут самостоятельно соответствующих',\n",
       " 'передать функции комиссии вопросам присоединения',\n",
       " 'правительству упразднить значительную часть комиссий',\n",
       " 'защитным мерам внешней торговле таможенно-тарифной',\n",
       " \"нести министры '' сказал журналистам\",\n",
       " 'предложил правительству упразднить значительную часть',\n",
       " 'координации работы министерствами `` уровень',\n",
       " '`` ответственность предлагаемые решения должны',\n",
       " 'частности считает целесообразным передать функции',\n",
       " 'работал сообщает риа `` новости',\n",
       " 'уровень согласования заменит ранее действовавшие',\n",
       " 'комиссии защитным мерам внешней торговле',\n",
       " 'значительную часть комиссий которых работал',\n",
       " \"новости '' `` ответственность предлагаемые\",\n",
       " \"нести министры '' сказал журналистам\",\n",
       " 'которых работал сообщает риа ``',\n",
       " 'именно закреплены задачи кудрин также',\n",
       " 'решений правительства создавать межведомственные комиссии',\n",
       " \"нести министры '' сказал журналистам\",\n",
       " 'правительства создавать межведомственные комиссии координации',\n",
       " 'политике министерству экономического развития торговли',\n",
       " \"действовавшие комиссии '' сказал министр\",\n",
       " 'правительству упразднить значительную часть комиссий',\n",
       " 'соответствующих решений правительства создавать межведомственные',\n",
       " 'предложил правительству упразднить значительную часть',\n",
       " 'министерствами `` уровень согласования заменит',\n",
       " 'ответственность предлагаемые решения должны нести',\n",
       " 'вто комиссии защитным мерам внешней',\n",
       " 'передать функции комиссии вопросам присоединения',\n",
       " 'частности считает целесообразным передать функции',\n",
       " 'министры смогут самостоятельно соответствующих решений',\n",
       " \"нести министры '' сказал журналистам\",\n",
       " 'решений правительства создавать межведомственные комиссии',\n",
       " 'министры смогут самостоятельно соответствующих решений',\n",
       " 'кудрин предложил правительству упразднить значительную',\n",
       " 'предлагаемые решения должны нести министры',\n",
       " 'соответствующих решений правительства создавать межведомственные',\n",
       " 'внешней торговле таможенно-тарифной политике министерству',\n",
       " 'работал сообщает риа `` новости',\n",
       " 'именно закреплены задачи кудрин также',\n",
       " 'правительству упразднить значительную часть комиссий',\n",
       " \"ранее действовавшие комиссии '' сказал\",\n",
       " 'журналистам частности считает целесообразным передать',\n",
       " 'создавать межведомственные комиссии координации работы',\n",
       " 'создавать межведомственные комиссии координации работы',\n",
       " 'комиссий которых работал сообщает риа',\n",
       " 'передать функции комиссии вопросам присоединения',\n",
       " \"решения должны нести министры ''\",\n",
       " 'торговли поскольку именно закреплены задачи',\n",
       " 'предложил правительству упразднить значительную часть',\n",
       " 'задачи кудрин также сообщил министры',\n",
       " 'комиссии защитным мерам внешней торговле',\n",
       " 'таможенно-тарифной политике министерству экономического развития',\n",
       " 'согласования заменит ранее действовавшие комиссии',\n",
       " \"должны нести министры '' сказал\",\n",
       " \"должны нести министры '' сказал\",\n",
       " 'работал сообщает риа `` новости',\n",
       " 'мерам внешней торговле таможенно-тарифной политике',\n",
       " \"сообщает риа `` новости ''\",\n",
       " \"риа `` новости '' ``\",\n",
       " 'комиссий которых работал сообщает риа',\n",
       " 'таможенно-тарифной политике министерству экономического развития',\n",
       " 'министерствами `` уровень согласования заменит',\n",
       " 'министерству экономического развития торговли поскольку',\n",
       " \"сообщает риа `` новости ''\",\n",
       " 'координации работы министерствами `` уровень',\n",
       " 'рф алексей кудрин предложил правительству',\n",
       " 'россии вто комиссии защитным мерам',\n",
       " 'которых работал сообщает риа ``',\n",
       " 'правительству упразднить значительную часть комиссий']"
      ]
     },
     "execution_count": 6,
     "metadata": {},
     "output_type": "execute_result"
    }
   ],
   "source": [
    "import random\n",
    "\n",
    "def choose_shingles(shingles):\n",
    "    shingles_count = 84 if len(shingles) > 84 else len(shingles)\n",
    "    return random.choices(shingles, k=shingles_count)\n",
    "\n",
    "choose_shingles(df['shingles'][0])"
   ]
  },
  {
   "cell_type": "code",
   "execution_count": 17,
   "id": "55633e31",
   "metadata": {
    "collapsed": false,
    "jupyter": {
     "outputs_hidden": false
    },
    "pycharm": {
     "name": "#%%\n"
    }
   },
   "outputs": [
    {
     "data": {
      "text/plain": [
       "False"
      ]
     },
     "execution_count": 17,
     "metadata": {},
     "output_type": "execute_result"
    }
   ],
   "source": [
    "import fuzzywuzzy.fuzz\n",
    "\n",
    "TRASHHOLD = 60\n",
    "\n",
    "def equals(a, b):\n",
    "    ratio = fuzzywuzzy.fuzz.token_sort_ratio(a, b)\n",
    "    return ratio > TRASHHOLD\n",
    "    \n",
    "import time\n",
    "s = time.time()\n",
    "a = df['text'][10015]\n",
    "b = df['text'][10019]\n",
    "equals(a, b)\n"
   ]
  },
  {
   "cell_type": "code",
   "execution_count": 8,
   "id": "94e6d83a",
   "metadata": {
    "collapsed": false,
    "jupyter": {
     "outputs_hidden": false
    },
    "pycharm": {
     "name": "#%%\n"
    }
   },
   "outputs": [
    {
     "data": {
      "text/plain": [
       "0        [решений правительства создавать межведомствен...\n",
       "1        [предоставлять дня пресс-конференции ранее под...\n",
       "2        [напали автоколонну вс сша сожгли, дороге маши...\n",
       "3        [несут собой ультрафиолетовые волны разной, со...\n",
       "4        [действие димексида усилит мазь антибиотиком, ...\n",
       "                               ...                        \n",
       "10015    [христиан декабре года две попытки, арестованн...\n",
       "10016    [хана джамали заявил инспектор полиции, зафару...\n",
       "10017    [собирался подложить пути следования кортежа, ...\n",
       "10018    [хадер кока арестован месяца назад, израильски...\n",
       "10019    [терроризм '' присутствовало райс намеревалась...\n",
       "Name: to_compare, Length: 10020, dtype: object"
      ]
     },
     "execution_count": 8,
     "metadata": {},
     "output_type": "execute_result"
    }
   ],
   "source": [
    "df['to_compare'] = df['shingles'].apply(choose_shingles)\n",
    "df['to_compare']"
   ]
  },
  {
   "cell_type": "code",
   "execution_count": null,
   "id": "4f2d74a5",
   "metadata": {
    "collapsed": false,
    "jupyter": {
     "outputs_hidden": false
    },
    "pycharm": {
     "name": "#%%\n"
    }
   },
   "outputs": [],
   "source": []
  },
  {
   "cell_type": "code",
   "execution_count": 9,
   "id": "0ec999cd",
   "metadata": {
    "collapsed": false,
    "jupyter": {
     "outputs_hidden": false
    },
    "pycharm": {
     "name": "#%%\n"
    }
   },
   "outputs": [
    {
     "name": "stdout",
     "output_type": "stream",
     "text": [
      "778 888\n",
      "974 975\n"
     ]
    }
   ],
   "source": [
    "clusters = []\n",
    "duplicates_count = 0\n",
    "duplicates = set()\n",
    "for i in range(1000):\n",
    "    for j in range(i + 1, 1001):\n",
    "        a = df['text'][i]\n",
    "        b = df['text'][j]\n",
    "        are_equal = equals(a, b)\n",
    "\n",
    "        if are_equal:\n",
    "            duplicates.add(j)\n",
    "\n",
    "            cluster_found = False\n",
    "            for cluster in clusters:\n",
    "                if i in cluster or j in cluster:\n",
    "                    cluster.add(i)\n",
    "                    cluster.add(j)\n",
    "                    cluster_found = True\n",
    "            if not cluster_found:\n",
    "                print(i, j)\n",
    "                clusters.append({i, j})\n"
   ]
  },
  {
   "cell_type": "code",
   "execution_count": 10,
   "id": "7d1e47d6",
   "metadata": {
    "collapsed": false,
    "jupyter": {
     "outputs_hidden": false
    },
    "pycharm": {
     "name": "#%%\n"
    }
   },
   "outputs": [
    {
     "data": {
      "text/plain": [
       "{888, 975}"
      ]
     },
     "execution_count": 10,
     "metadata": {},
     "output_type": "execute_result"
    }
   ],
   "source": [
    "duplicates"
   ]
  },
  {
   "cell_type": "code",
   "execution_count": 11,
   "id": "0e918a77",
   "metadata": {
    "collapsed": false,
    "jupyter": {
     "outputs_hidden": false
    },
    "pycharm": {
     "name": "#%%\n"
    }
   },
   "outputs": [
    {
     "data": {
      "text/plain": [
       "[{778, 888}, {974, 975}]"
      ]
     },
     "execution_count": 11,
     "metadata": {},
     "output_type": "execute_result"
    }
   ],
   "source": [
    "clusters"
   ]
  },
  {
   "cell_type": "code",
   "execution_count": 12,
   "id": "c9acd580",
   "metadata": {
    "collapsed": false,
    "jupyter": {
     "outputs_hidden": false
    },
    "pycharm": {
     "name": "#%%\n"
    }
   },
   "outputs": [
    {
     "data": {
      "text/html": [
       "<div>\n",
       "<style scoped>\n",
       "    .dataframe tbody tr th:only-of-type {\n",
       "        vertical-align: middle;\n",
       "    }\n",
       "\n",
       "    .dataframe tbody tr th {\n",
       "        vertical-align: top;\n",
       "    }\n",
       "\n",
       "    .dataframe thead th {\n",
       "        text-align: right;\n",
       "    }\n",
       "</style>\n",
       "<table border=\"1\" class=\"dataframe\">\n",
       "  <thead>\n",
       "    <tr style=\"text-align: right;\">\n",
       "      <th></th>\n",
       "      <th>docID</th>\n",
       "      <th>docURL</th>\n",
       "      <th>subject</th>\n",
       "      <th>agency</th>\n",
       "      <th>timestamp</th>\n",
       "      <th>content</th>\n",
       "      <th>text</th>\n",
       "      <th>shingles</th>\n",
       "      <th>shingles_len</th>\n",
       "      <th>to_compare</th>\n",
       "    </tr>\n",
       "  </thead>\n",
       "  <tbody>\n",
       "  </tbody>\n",
       "</table>\n",
       "</div>"
      ],
      "text/plain": [
       "Empty DataFrame\n",
       "Columns: [docID, docURL, subject, agency, timestamp, content, text, shingles, shingles_len, to_compare]\n",
       "Index: []"
      ]
     },
     "execution_count": 12,
     "metadata": {},
     "output_type": "execute_result"
    }
   ],
   "source": [
    "df.query('\"\" in shingles')"
   ]
  },
  {
   "cell_type": "code",
   "execution_count": 15,
   "id": "75226150",
   "metadata": {
    "collapsed": false,
    "jupyter": {
     "outputs_hidden": false
    },
    "pycharm": {
     "name": "#%%\n"
    }
   },
   "outputs": [
    {
     "data": {
      "text/plain": [
       "False"
      ]
     },
     "execution_count": 15,
     "metadata": {},
     "output_type": "execute_result"
    }
   ],
   "source": [
    "clusters[0].issuperset(clusters[1])\n"
   ]
  },
  {
   "cell_type": "code",
   "execution_count": 18,
   "id": "a70cc115-73dc-43c1-bdcf-bd3c7bd5f62a",
   "metadata": {},
   "outputs": [
    {
     "data": {
      "text/plain": [
       "\"екатеринбург апреля водитель направил микроавтобус дерево результате пострадали человека сообщили апи пресс-службе отдела гибдд увд екатеринбурга среду минут первого ночи улице бардина дома №33 водитель микроавтобуса `` тойота '' справился управлением наехал дерево обочине.-летний водитель получил черепно-мозговую травму его-летний пассажир получил перелом голени пострадавшие госпитализированы бригадой `` скорой помощи '' оба находились нетрезвом состоянии\""
      ]
     },
     "execution_count": 18,
     "metadata": {},
     "output_type": "execute_result"
    }
   ],
   "source": [
    "df['text'][778]"
   ]
  },
  {
   "cell_type": "code",
   "execution_count": 19,
   "id": "33ddb0fa-a315-4c39-b49a-025c0451cdbc",
   "metadata": {},
   "outputs": [
    {
     "data": {
      "text/plain": [
       "\"екатеринбург апреля результате наезда автомобиля столб екатеринбурге пострадали человека сообщили апи пресс-службе городского отдела гибдд минувшей ночью часа улице марта дома №163-летний водитель автомобиля ваз справился управлением из-за автомобиль врезался столб водитель пассажир машины госпитализированы места дтп бригадой `` скорой помощи '' городскую клиническую больницу №24 закрытыми черепно-мозговыми травмами\""
      ]
     },
     "execution_count": 19,
     "metadata": {},
     "output_type": "execute_result"
    }
   ],
   "source": [
    "df['text'][888]"
   ]
  },
  {
   "cell_type": "code",
   "execution_count": 20,
   "id": "e69917fe-b33c-4614-92af-c8a9016babfa",
   "metadata": {},
   "outputs": [
    {
     "data": {
      "text/plain": [
       "\"міжнародний ярмарок багдаді перенесено пізніший термін зв'язку з убивством чотирьох американських цивільних фалуджі ярмарок мав відкритися наступного понеділка понад компаній з країн світу мали б представити свої товари однак американські офіційні представники заявили що зможуть гарантувати безпеки учасникам ярмарку повідомляє ``\""
      ]
     },
     "execution_count": 20,
     "metadata": {},
     "output_type": "execute_result"
    }
   ],
   "source": [
    "df['text'][974]"
   ]
  },
  {
   "cell_type": "code",
   "execution_count": 21,
   "id": "d317cf7c-b903-40cc-91f6-f055a5cd34e7",
   "metadata": {},
   "outputs": [
    {
     "data": {
      "text/plain": [
       "'международная ярмарка багдаде перенесена поздний срок связи убийством четырех американских гражданских фалудже ярмарка должна открыться следующий понедельник компаний стран мира должны представить свои товары однако официальные американские представители заявили смогут гарантировать безопасности участникам ярмарки сообщает ``'"
      ]
     },
     "execution_count": 21,
     "metadata": {},
     "output_type": "execute_result"
    }
   ],
   "source": [
    "df['text'][975]"
   ]
  },
  {
   "cell_type": "code",
   "execution_count": null,
   "id": "c111c57d-5cdd-40aa-af5e-405cb83db593",
   "metadata": {},
   "outputs": [],
   "source": []
  }
 ],
 "metadata": {
  "kernelspec": {
   "display_name": "Python 3 (ipykernel)",
   "language": "python",
   "name": "python3"
  },
  "language_info": {
   "codemirror_mode": {
    "name": "ipython",
    "version": 3
   },
   "file_extension": ".py",
   "mimetype": "text/x-python",
   "name": "python",
   "nbconvert_exporter": "python",
   "pygments_lexer": "ipython3",
   "version": "3.12.3"
  }
 },
 "nbformat": 4,
 "nbformat_minor": 5
}
